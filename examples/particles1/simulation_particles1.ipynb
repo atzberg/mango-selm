{
 "cells": [
  {
   "cell_type": "markdown",
   "metadata": {},
   "source": [
    "### SELM via PyLAMMPs for Simulations\n",
    "Author: Paul Atzberger <br>\n",
    "http://atzberger.org/\n"
   ]
  },
  {
   "cell_type": "code",
   "execution_count": 1,
   "metadata": {},
   "outputs": [],
   "source": [
    "import os;\n",
    "script_base_name = \"simulation_particles1\";\n",
    "script_dir = os.getcwd();"
   ]
  },
  {
   "cell_type": "code",
   "execution_count": 2,
   "metadata": {},
   "outputs": [],
   "source": [
    "# import the lammps module\n",
    "try:  \n",
    "  from selm_lammps.lammps import IPyLammps # use this for the pip install of pre-built package\n",
    "  lammps_import_comment = \"from selm_lammps.lammps import IPyLammps\";  \n",
    "  from selm_lammps import util as atz_util;\n",
    "except Exception as e:  \n",
    "  from lammps import IPyLammps # use this for direct install of package\n",
    "  lammps_import_comment = \"from lammps import IPyLammps\";\n",
    "  from atz_lammps import util as atz_util;\n",
    "except Exception as e: # if fails to import, report the exception   \n",
    "  print(e);\n",
    "  lammps_import_comment = \"import failed\";\n",
    "\n",
    "import numpy as np;\n",
    "import matplotlib;\n",
    "import matplotlib.pyplot as plt;\n",
    "import sys,shutil,pickle,pdb;\n",
    "\n",
    "import logging;"
   ]
  },
  {
   "cell_type": "markdown",
   "metadata": {},
   "source": [
    "### Setup SELM Simulation"
   ]
  },
  {
   "cell_type": "code",
   "execution_count": 3,
   "metadata": {},
   "outputs": [
    {
     "name": "stdout",
     "output_type": "stream",
     "text": [
      "WARNING: rm_dir(): The directory does not exist, dir_name = /USER-SELM/examples/Particles1/output/simulation_particles1/particles_test000\n",
      "Setting up log file in filename = /USER-SELM/examples/Particles1/output/simulation_particles1/particles_test000/main.log\n",
      "from selm_lammps.lammps import IPyLammps\n",
      "For running LAMMPS changing the current working directory to:\n",
      "/USER-SELM/examples/Particles1/output/simulation_particles1/particles_test000\n"
     ]
    }
   ],
   "source": [
    "# @base_dir\n",
    "base_dir_output   = '%s/output/%s'%(script_dir,script_base_name);\n",
    "atz_util.create_dir(base_dir_output);\n",
    "\n",
    "dir_run_name = 'particles';\n",
    "base_dir = '%s/%s_test000'%(base_dir_output,dir_run_name);\n",
    "\n",
    "# remove all data from dir\n",
    "atz_util.rm_dir(base_dir);\n",
    "\n",
    "# setup the directories\n",
    "base_dir_fig    = '%s/fig'%base_dir;\n",
    "atz_util.create_dir(base_dir_fig);\n",
    "\n",
    "base_dir_vtk    = '%s/vtk'%base_dir;\n",
    "atz_util.create_dir(base_dir_vtk);\n",
    "\n",
    "# setup logging\n",
    "atzLog = atz_util.AtzLogging(print,base_dir);\n",
    "print_log = atzLog.print_log;\n",
    "\n",
    "# print the import comment\n",
    "print_log(lammps_import_comment);\n",
    "\n",
    "# change directory for running LAMMPS in output\n",
    "print_log(\"For running LAMMPS changing the current working directory to:\\n%s\"%base_dir);\n",
    "os.chdir(base_dir); # base the current working directory\n",
    "#os.chdir(script_dir); # base the current working directory"
   ]
  },
  {
   "cell_type": "markdown",
   "metadata": {},
   "source": [
    "### Setup LAMMPs"
   ]
  },
  {
   "cell_type": "code",
   "execution_count": 4,
   "metadata": {
    "scrolled": false
   },
   "outputs": [
    {
     "name": "stdout",
     "output_type": "stream",
     "text": [
      "LAMMPS output is captured by PyLammps wrapper\n",
      "LAMMPS version: 29 Oct 2020 / 20201029\n",
      "MPI version: LAMMPS MPI STUBS for LAMMPS version 29 Oct 2020\n"
     ]
    }
   ],
   "source": [
    "L = IPyLammps();\n",
    "atz_util.print_version_info(L);    "
   ]
  },
  {
   "cell_type": "markdown",
   "metadata": {},
   "source": [
    "### Copy files to the output directory"
   ]
  },
  {
   "cell_type": "code",
   "execution_count": 5,
   "metadata": {},
   "outputs": [
    {
     "name": "stdout",
     "output_type": "stream",
     "text": [
      "Model files being copied:\n",
      "src = /USER-SELM/examples/Particles1/Model1\n",
      "dst = /USER-SELM/examples/Particles1/output/simulation_particles1/particles_test000/\n"
     ]
    }
   ],
   "source": [
    "# copy the model files to the destination\n",
    "src = script_dir + '/' + \"Model1\";\n",
    "dst = base_dir + '/';\n",
    "atz_util.copytree2(src,dst,symlinks=False,ignore=None);\n",
    "\n",
    "print_log(\"Model files being copied:\\n\" + \"src = \" + str(src) + \"\\n\" + \"dst = \" + str(dst));"
   ]
  },
  {
   "cell_type": "code",
   "execution_count": 6,
   "metadata": {
    "scrolled": false
   },
   "outputs": [
    {
     "name": "stdout",
     "output_type": "stream",
     "text": [
      "Copying notebook to archive:\n",
      "src = /USER-SELM/examples/Particles1/simulation_particles1.ipynb\n",
      "dst = /USER-SELM/examples/Particles1/output/simulation_particles1/particles_test000/archive__simulation_particles1.ipynb\n"
     ]
    }
   ],
   "source": [
    "flag_copy_notebook_to_output = True;\n",
    "if flag_copy_notebook_to_output:\n",
    "  #cur_dir = os.getcwd();\n",
    "  #src = cur_dir + '/' + script_base_name + '.ipynb';\n",
    "  src = script_dir + '/' + script_base_name + '.ipynb';    \n",
    "  dst = base_dir + '/' + 'archive__' + script_base_name + '.ipynb';\n",
    "  shutil.copyfile(src, dst);\n",
    "  print_log(\"Copying notebook to archive:\\n\" + \"src = \" + str(src) + \"\\n\" + \"dst = \" + str(dst));"
   ]
  },
  {
   "cell_type": "markdown",
   "metadata": {},
   "source": [
    "### Common Physical Parameters (nano units)"
   ]
  },
  {
   "cell_type": "code",
   "execution_count": 7,
   "metadata": {},
   "outputs": [],
   "source": [
    "# Reference units and parameters\n",
    "units = {'name':'nano','mu':1.0,'rho':0.001,\n",
    "         'KB':0.01380651,'T':298.15};\n",
    "units.update({'KBT':units['KB']*units['T']});"
   ]
  },
  {
   "cell_type": "markdown",
   "metadata": {},
   "source": [
    "### Setup the Model and Simulation Files (such as .read_data)"
   ]
  },
  {
   "cell_type": "code",
   "execution_count": 8,
   "metadata": {
    "scrolled": false
   },
   "outputs": [
    {
     "name": "stdout",
     "output_type": "stream",
     "text": [
      "atom_name = tracer_pts\n",
      "num_pts = 27\n"
     ]
    }
   ],
   "source": [
    "num_dim = 3;\n",
    "box = np.zeros((num_dim,2));\n",
    "LL = 202.5; box[:,0] = -LL; box[:,1] = LL;\n",
    "\n",
    "# setup atoms\n",
    "I_id = 1; I_type = 1; atom_types = [];\n",
    "atom_list = []; atom_mass_list = []; atom_id_list = []; \n",
    "atom_mol_list = []; atom_name_list = [];\n",
    "\n",
    "# tracer atoms\n",
    "flag_tracer = True;\n",
    "if flag_tracer:\n",
    "  atom_name = \"tracer_pts\";\n",
    "  atom_name_list.append(atom_name);\n",
    "  atom_types.append(I_type); \n",
    "  atom_types[I_type - 1] = I_type;  \n",
    "  num_pts_dir = 2; m0 = 1.123; \n",
    "  x1 = np.linspace(-LL,LL,num_pts_dir + 1,endpoint=False); dx = x1[1] - x1[0];\n",
    "  x1 = x1 + 0.5*dx;\n",
    "  xx = np.meshgrid(x1,x1,x1);\n",
    "  x = np.stack((xx[0].flatten(),xx[1].flatten(),xx[2].flatten()),axis=1); # shape = [num_pts,num_dim]\n",
    "  #ipdb.set_trace();\n",
    "  num_pts = x.shape[0];\n",
    "  atom_id = np.arange(I_id + 0,I_id + num_pts,dtype=int);\n",
    "  mol_id = 2; atom_mol = np.ones(x.shape[0],dtype=int)*mol_id;\n",
    "  atom_list.append(x); atom_mass_list.append(m0); \n",
    "  atom_id_list.append(atom_id); atom_mol_list.append(atom_mol);\n",
    "  I_type += 1; I_id += num_pts;\n",
    "  print_log(\"atom_name = \" + str(atom_name));\n",
    "  print_log(\"num_pts = \" + str(num_pts));\n",
    "\n",
    "# summary data    \n",
    "# get total number of atoms\n",
    "atom_types = np.array(atom_types,dtype=int);\n",
    "num_atoms = I_id - 1; # total number of atoms\n",
    "\n",
    "# setup bonds\n",
    "I_id = 1; I_type = 1; bond_types = []; bond_name_list = [];\n",
    "bond_list = []; bond_coeff_list = []; bond_id_list = [];\n",
    "\n",
    "# summary data    \n",
    "num_bonds = I_id - 1;\n",
    "bond_types = np.array(bond_types,dtype=int);\n",
    "\n",
    "# setup angles\n",
    "I_id = 1; I_type =1 ; angle_types = []; angle_name_list = [];\n",
    "angle_list = []; angle_coeff_list = []; angle_id_list = [];\n",
    "\n",
    "# summary data \n",
    "num_angles = I_id - 1;\n",
    "angle_types = np.array(angle_types,dtype=int);\n",
    "\n",
    "# store the model information\n",
    "model_info = {};\n",
    "model_info.update({'num_dim':num_dim,'box':box,'atom_types':atom_types,\n",
    "          'atom_list':atom_list,'atom_mass_list':atom_mass_list,'atom_name_list':atom_name_list,\n",
    "          'atom_id_list':atom_id_list,'atom_mol_list':atom_mol_list,\n",
    "          'bond_types':bond_types,'bond_list':bond_list,'bond_id_list':bond_id_list,\n",
    "          'bond_coeff_list':bond_coeff_list,'bond_name_list':bond_name_list,\n",
    "          'angle_types':angle_types,'angle_list':angle_list,'angle_id_list':angle_id_list,\n",
    "          'angle_coeff_list':angle_coeff_list,'angle_name_list':angle_name_list});"
   ]
  },
  {
   "cell_type": "code",
   "execution_count": 9,
   "metadata": {},
   "outputs": [
    {
     "name": "stdout",
     "output_type": "stream",
     "text": [
      "Writing model data .pickle\n",
      "filename = model_setup.pickle\n",
      "Writing model data .read_data\n",
      "filename = Model.LAMMPS_read_data\n"
     ]
    }
   ],
   "source": [
    "# write .pickle data with the model setup information\n",
    "filename = \"model_setup.pickle\";\n",
    "print_log(\"Writing model data .pickle\");\n",
    "print_log(\"filename = \" + filename);\n",
    "s = model_info;\n",
    "f = open(filename,'wb'); pickle.dump(s,f); f.close();\n",
    "\n",
    "# write the model .read_data file for lammps\n",
    "filename = \"Model.LAMMPS_read_data\";\n",
    "print_log(\"Writing model data .read_data\");\n",
    "print_log(\"filename = \" + filename);\n",
    "atz_util.write_read_data(filename=filename,print_log=print_log,**model_info);"
   ]
  },
  {
   "cell_type": "code",
   "execution_count": 10,
   "metadata": {
    "scrolled": false
   },
   "outputs": [],
   "source": [
    "#!cat Polymer.LAMMPS_read_data"
   ]
  },
  {
   "cell_type": "markdown",
   "metadata": {},
   "source": [
    "### Perform the simulation"
   ]
  },
  {
   "cell_type": "code",
   "execution_count": 11,
   "metadata": {
    "scrolled": false
   },
   "outputs": [
    {
     "name": "stdout",
     "output_type": "stream",
     "text": [
      "Sending commands to LAMMPs\n",
      "\n",
      "# =========================================================================\n",
      "# LAMMPS main parameter file and script                                    \n",
      "#                                                                          \n",
      "# Author: Paul J. Atzberger.               \n",
      "#\n",
      "# Based on script generated by SELM Model Builder.\n",
      "#                                                                          \n",
      "# =========================================================================\n",
      "\n",
      "# == Setup variables for the script \n",
      "\n",
      "variable dumpfreq         equal    1\n",
      "variable restart          equal    0\n",
      "variable neighborSkinDist equal    1.0 # distance for bins beyond force cut-off (1.0 = 1.0 Ang for units = real) \n",
      "variable baseFilename     universe Model\n",
      "\n",
      "# == Setup the log file\n",
      "#log         ${baseFilename}.LAMMPS_logFile\n",
      "\n",
      "# == Setup style of the run\n",
      "\n",
      "# type of units to use in the simulation (units used are in fact: amu, nm, ns, Kelvins)\n",
      "units       nano\n",
      "\n",
      "# indicates possible types allowed for interactions between the atoms\n",
      "atom_style  angle \n",
      "\n",
      "# indicates possible types allowed for bonds between the atoms \n",
      "bond_style  none\n",
      "\n",
      "# indicates possible types allowed for bond angles between the atoms \n",
      "angle_style none\n",
      "\n",
      "# indicates type of boundary conditions in each direction (p = periodic) \n",
      "boundary p p p \n",
      "\n",
      "read_data ${baseFilename}.LAMMPS_read_data # file of atomic coordinates and topology\n",
      "velocity all zero linear                   # initialize all atomic velocities initially to zero\n",
      "\n",
      "# == Interactions \n",
      "pair_style none\n",
      "atom_modify sort 1000 ${neighborSkinDist}          # setup sort data explicitly since no interactions to set this data. \n",
      "\n",
      "# == Setup neighbor list distance\n",
      "comm_style tiled\n",
      "comm_modify mode single cutoff 202.0 vel yes\n",
      "\n",
      "neighbor ${neighborSkinDist} bin                    # first number gives a distance beyond the force cut-off ${neighborSkinDist}\n",
      "neigh_modify every 1\n",
      "atom_modify sort 0 ${neighborSkinDist}           # setup sort data explicitly since no interactions to set this data. \n",
      "\n",
      "# == Setup the SELM integrator\n",
      "fix 1 all selm Main.SELM_params\n",
      "\n",
      "# note langevin just computes forces, nve integrates the motions\n",
      "#fix 1 all langevin 298.15 298.15 0.00001 48279\n",
      "#fix 2 all nve\n",
      "\n",
      "# == Setup output data write to disk\n",
      "dump        dmp_vtk all vtk ${dumpfreq} ./vtk/Particles_*.vtp id type vx fx\n",
      "dump_modify dmp_vtk pad 8 # ensures filenames file_000000.data\n",
      "\n",
      "# == simulation time-stepping\n",
      "timestep 60\n",
      "\n",
      "# == Run the simulation\n",
      "run      1000 upto\n",
      "\n",
      "# == Write restart data\n",
      "write_restart ${baseFilename}.LAMMPS_restart_data\n"
     ]
    }
   ],
   "source": [
    "# We can send collection of commands using the triple quote notation\n",
    "s = \"\"\"\n",
    "# =========================================================================\n",
    "# LAMMPS main parameter file and script                                    \n",
    "#                                                                          \n",
    "# Author: Paul J. Atzberger.               \n",
    "#\n",
    "# Based on script generated by SELM Model Builder.\n",
    "#                                                                          \n",
    "# =========================================================================\n",
    "\n",
    "# == Setup variables for the script \n",
    "\n",
    "variable dumpfreq         equal    1\n",
    "variable restart          equal    0\n",
    "variable neighborSkinDist equal    1.0 # distance for bins beyond force cut-off (1.0 = 1.0 Ang for units = real) \n",
    "variable baseFilename     universe Model\n",
    "\n",
    "# == Setup the log file\n",
    "#log         ${baseFilename}.LAMMPS_logFile\n",
    "\n",
    "# == Setup style of the run\n",
    "\n",
    "# type of units to use in the simulation (units used are in fact: amu, nm, ns, Kelvins)\n",
    "units       nano\n",
    "\n",
    "# indicates possible types allowed for interactions between the atoms\n",
    "atom_style  angle \n",
    "\n",
    "# indicates possible types allowed for bonds between the atoms \n",
    "bond_style  none\n",
    "\n",
    "# indicates possible types allowed for bond angles between the atoms \n",
    "angle_style none\n",
    "\n",
    "# indicates type of boundary conditions in each direction (p = periodic) \n",
    "boundary p p p \n",
    "\n",
    "read_data ${baseFilename}.LAMMPS_read_data # file of atomic coordinates and topology\n",
    "velocity all zero linear                   # initialize all atomic velocities initially to zero\n",
    "\n",
    "# == Interactions \n",
    "pair_style none\n",
    "atom_modify sort 1000 ${neighborSkinDist}          # setup sort data explicitly since no interactions to set this data. \n",
    "\n",
    "# == Setup neighbor list distance\n",
    "comm_style tiled\n",
    "comm_modify mode single cutoff 202.0 vel yes\n",
    "\n",
    "neighbor ${neighborSkinDist} bin                    # first number gives a distance beyond the force cut-off ${neighborSkinDist}\n",
    "neigh_modify every 1\n",
    "atom_modify sort 0 ${neighborSkinDist}           # setup sort data explicitly since no interactions to set this data. \n",
    "\n",
    "# == Setup the SELM integrator\n",
    "fix 1 all selm Main.SELM_params\n",
    "\n",
    "# note langevin just computes forces, nve integrates the motions\n",
    "#fix 1 all langevin 298.15 298.15 0.00001 48279\n",
    "#fix 2 all nve\n",
    "\n",
    "# == Setup output data write to disk\n",
    "dump        dmp_vtk all vtk ${dumpfreq} ./vtk/Particles_*.vtp id type vx fx\n",
    "dump_modify dmp_vtk pad 8 # ensures filenames file_000000.data\n",
    "\n",
    "# == simulation time-stepping\n",
    "timestep 60\n",
    "\n",
    "# == Run the simulation\n",
    "run      10000 upto\n",
    "\n",
    "# == Write restart data\n",
    "write_restart ${baseFilename}.LAMMPS_restart_data\n",
    "\"\"\"\n",
    "\n",
    "# feed commands to LAMMPs one line at a time\n",
    "print_log(\"Sending commands to LAMMPs\");\n",
    "for line in s.splitlines():\n",
    "  print_log(line);\n",
    "  L.command(line);"
   ]
  },
  {
   "cell_type": "code",
   "execution_count": 12,
   "metadata": {},
   "outputs": [],
   "source": [
    "#!cat Model.SELM_Info"
   ]
  },
  {
   "cell_type": "code",
   "execution_count": 13,
   "metadata": {},
   "outputs": [
    {
     "name": "stdout",
     "output_type": "stream",
     "text": [
      "Done\n"
     ]
    }
   ],
   "source": [
    "print_log(\"Done\");"
   ]
  }
 ],
 "metadata": {
  "kernelspec": {
   "display_name": "Python [conda env:selm-lammps]",
   "language": "python",
   "name": "conda-env-selm-lammps-py"
  },
  "language_info": {
   "codemirror_mode": {
    "name": "ipython",
    "version": 3
   },
   "file_extension": ".py",
   "mimetype": "text/x-python",
   "name": "python",
   "nbconvert_exporter": "python",
   "pygments_lexer": "ipython3",
   "version": "3.7.10"
  }
 },
 "nbformat": 4,
 "nbformat_minor": 1
}
