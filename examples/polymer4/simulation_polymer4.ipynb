{
 "cells": [
  {
   "cell_type": "markdown",
   "metadata": {},
   "source": [
    "### SELM via PyLAMMPs for Simulations\n",
    "Author: Paul Atzberger <br>\n",
    "http://atzberger.org/\n"
   ]
  },
  {
   "cell_type": "code",
   "execution_count": 1,
   "metadata": {},
   "outputs": [],
   "source": [
    "import os;\n",
    "script_base_name = \"simulation_polymer4\";\n",
    "script_dir = os.getcwd();"
   ]
  },
  {
   "cell_type": "code",
   "execution_count": 2,
   "metadata": {},
   "outputs": [],
   "source": [
    "# import the lammps module\n",
    "try:  \n",
    "  from selm_lammps.lammps import IPyLammps # use this for the pip install of pre-built package\n",
    "  lammps_import_comment = \"from selm_lammps.lammps import IPyLammps\";  \n",
    "  from selm_lammps import util as atz_util;\n",
    "except Exception as e:  \n",
    "  from lammps import IPyLammps # use this for direct install of package\n",
    "  lammps_import_comment = \"from lammps import IPyLammps\";\n",
    "  from atz_lammps import util as atz_util;\n",
    "except Exception as e: # if fails to import, report the exception   \n",
    "  print(e);\n",
    "  lammps_import_comment = \"import failed\";\n",
    "\n",
    "import numpy as np;\n",
    "import matplotlib;\n",
    "import matplotlib.pyplot as plt;\n",
    "\n",
    "import sys,shutil,pickle,pdb;\n",
    "\n",
    "import logging;\n",
    "\n",
    "fontsize = 14;\n",
    "font = {'family' : 'DejaVu Sans',\n",
    "        'weight' : 'normal',\n",
    "        'size'   : fontsize};\n",
    "\n",
    "matplotlib.rc('font', **font);"
   ]
  },
  {
   "cell_type": "markdown",
   "metadata": {},
   "source": [
    "### Setup SELM Simulation"
   ]
  },
  {
   "cell_type": "code",
   "execution_count": 3,
   "metadata": {},
   "outputs": [
    {
     "name": "stdout",
     "output_type": "stream",
     "text": [
      "WARNING: rm_dir(): The directory does not exist, dir_name = /USER-SELM/examples/Polymer4/output/simulation_polymer4_2/harmonic_test001\n",
      "Setting up log file in filename = /USER-SELM/examples/Polymer4/output/simulation_polymer4_2/harmonic_test001/main.log\n",
      "\n",
      "from selm_lammps.lammps import IPyLammps\n",
      "For running LAMMPS changing the current working directory to:\n",
      "/USER-SELM/examples/Polymer4/output/simulation_polymer4_2/harmonic_test001\n"
     ]
    }
   ],
   "source": [
    "# @base_dir\n",
    "base_dir_output   = '%s/output/%s'%(script_dir,script_base_name);\n",
    "atz_util.create_dir(base_dir_output);\n",
    "\n",
    "dir_run_name = 'harmonic';\n",
    "base_dir = '%s/%s_test000'%(base_dir_output,dir_run_name);\n",
    "\n",
    "# remove all data from dir\n",
    "atz_util.rm_dir(base_dir);\n",
    "\n",
    "# setup the directories\n",
    "base_dir_fig    = '%s/fig'%base_dir;\n",
    "atz_util.create_dir(base_dir_fig);\n",
    "\n",
    "base_dir_vtk    = '%s/vtk'%base_dir;\n",
    "atz_util.create_dir(base_dir_vtk);\n",
    "\n",
    "# setup logging\n",
    "# @@@! Setup AtzLogging class and references...\n",
    "atzLog = atz_util.AtzLogging(print,base_dir);\n",
    "#atz_util.setup_log(print,base_dir);\n",
    "print(\"\");\n",
    "\n",
    "print_log = atzLog.print_log;\n",
    "\n",
    "# print the import comment\n",
    "print_log(lammps_import_comment);\n",
    "\n",
    "# change directory for running LAMMPS in output\n",
    "print_log(\"For running LAMMPS changing the current working directory to:\\n%s\"%base_dir);\n",
    "os.chdir(base_dir); # base the current working directory\n",
    "#os.chdir(script_dir); # base the current working directory\n"
   ]
  },
  {
   "cell_type": "markdown",
   "metadata": {},
   "source": [
    "### Setup LAMMPs"
   ]
  },
  {
   "cell_type": "code",
   "execution_count": 4,
   "metadata": {
    "scrolled": false
   },
   "outputs": [
    {
     "name": "stdout",
     "output_type": "stream",
     "text": [
      "LAMMPS output is captured by PyLammps wrapper\n",
      "LAMMPS version: 29 Oct 2020 / 20201029\n",
      "MPI version: LAMMPS MPI STUBS for LAMMPS version 29 Oct 2020\n"
     ]
    }
   ],
   "source": [
    "L = IPyLammps();\n",
    "atz_util.print_version_info(L);    "
   ]
  },
  {
   "cell_type": "markdown",
   "metadata": {},
   "source": [
    "### Copy files to the output directory"
   ]
  },
  {
   "cell_type": "code",
   "execution_count": 5,
   "metadata": {},
   "outputs": [
    {
     "name": "stdout",
     "output_type": "stream",
     "text": [
      "Model files being copied:\n",
      "src = /USER-SELM/examples/Polymer4/Model1\n",
      "dst = /USER-SELM/examples/Polymer4/output/simulation_polymer4_2/harmonic_test001/\n"
     ]
    }
   ],
   "source": [
    "# copy the model files to the destination\n",
    "src = script_dir + '/' + \"Model1\";\n",
    "dst = base_dir + '/';\n",
    "atz_util.copytree2(src,dst,symlinks=False,ignore=None);\n",
    "\n",
    "print_log(\"Model files being copied:\\n\" + \"src = \" + str(src) + \"\\n\" + \"dst = \" + str(dst));"
   ]
  },
  {
   "cell_type": "code",
   "execution_count": 6,
   "metadata": {
    "scrolled": false
   },
   "outputs": [
    {
     "name": "stdout",
     "output_type": "stream",
     "text": [
      "Copying notebook to archive:\n",
      "src = /USER-SELM/examples/Polymer4/simulation_polymer4_2.ipynb\n",
      "dst = /USER-SELM/examples/Polymer4/output/simulation_polymer4_2/harmonic_test001/archive__simulation_polymer4_2.ipynb\n"
     ]
    }
   ],
   "source": [
    "flag_copy_notebook_to_output = True;\n",
    "if flag_copy_notebook_to_output:\n",
    "  #cur_dir = os.getcwd();\n",
    "  #src = cur_dir + '/' + script_base_name + '.ipynb';\n",
    "  src = script_dir + '/' + script_base_name + '.ipynb';    \n",
    "  dst = base_dir + '/' + 'archive__' + script_base_name + '.ipynb';\n",
    "  shutil.copyfile(src, dst);\n",
    "  print_log(\"Copying notebook to archive:\\n\" + \"src = \" + str(src) + \"\\n\" + \"dst = \" + str(dst));"
   ]
  },
  {
   "cell_type": "markdown",
   "metadata": {},
   "source": [
    "### Common Physical Parameters (nano units)"
   ]
  },
  {
   "cell_type": "code",
   "execution_count": 7,
   "metadata": {},
   "outputs": [],
   "source": [
    "# Reference units and parameters\n",
    "units = {'name':'nano','mu':1.0,'rho':0.001,\n",
    "         'KB':0.01380651,'T':298.15};\n",
    "units.update({'KBT':units['KB']*units['T']});"
   ]
  },
  {
   "cell_type": "markdown",
   "metadata": {},
   "source": [
    "### Setup the Simulation Files (such as .read_data)"
   ]
  },
  {
   "cell_type": "code",
   "execution_count": 8,
   "metadata": {
    "scrolled": false
   },
   "outputs": [
    {
     "name": "stdout",
     "output_type": "stream",
     "text": [
      "atom_name = polymer_pts\n",
      "num_pts = 100\n",
      "atom_name = tracer_pts\n",
      "num_pts = 1331\n",
      "bond:\n",
      "KBT = 4.116410956499999\n",
      "r0 = 20\n",
      "bond coeff = harmonic 0.0823282 20.000000\n"
     ]
    }
   ],
   "source": [
    "num_dim = 3;\n",
    "box = np.zeros((num_dim,2));\n",
    "LL = 202.5; box[:,0] = -LL; box[:,1] = LL;\n",
    "\n",
    "# setup atoms\n",
    "I_id = 1; I_type = 1; atom_types = [];\n",
    "atom_list = []; atom_mass_list = []; atom_id_list = []; \n",
    "atom_mol_list = []; atom_name_list = [];\n",
    "\n",
    "# polymer atoms\n",
    "atom_name = \"polymer_pts\";\n",
    "atom_name_list.append(atom_name);\n",
    "atom_types.append(I_type); \n",
    "\n",
    "num_pts = 100; \n",
    "t = np.linspace(0,2*np.pi,num_pts,endpoint=False); R0 = 40;\n",
    "x1 = R0*(2.0 + np.cos(2.0*t))*np.cos(3.0*t); \n",
    "x2 = R0*(2.0 + np.cos(2.0*t))*np.sin(3.0*t); \n",
    "x3 = R0*2*np.sin(4.0*t);\n",
    "x = np.stack((x1,x2,x3),axis=1); # shape = [num_pts,num_dim]\n",
    "num_pts = x.shape[0]; m0 = 1.123; \n",
    "atom_id = np.arange(I_id + 0,I_id + num_pts,dtype=int);\n",
    "mol_id = 1; atom_mol = np.ones(num_pts,dtype=int)*mol_id;\n",
    "atom_list.append(x); atom_mass_list.append(m0); \n",
    "atom_id_list.append(atom_id); atom_mol_list.append(atom_mol);\n",
    "I_type += 1; I_id += num_pts;\n",
    "print_log(\"atom_name = \" + str(atom_name));\n",
    "print_log(\"num_pts = \" + str(num_pts));\n",
    "\n",
    "# tracer atoms\n",
    "flag_tracer = True;\n",
    "if flag_tracer:\n",
    "  atom_name = \"tracer_pts\";\n",
    "  atom_name_list.append(atom_name);\n",
    "  atom_types.append(I_type); \n",
    "  atom_types[I_type - 1] = I_type;  \n",
    "  num_pts_dir = 10; m0 = 1.123; \n",
    "  x1 = np.linspace(-LL,LL,num_pts_dir + 1,endpoint=False); dx = x1[1] - x1[0];\n",
    "  x1 = x1 + 0.5*dx;\n",
    "  xx = np.meshgrid(x1,x1,x1);\n",
    "  x = np.stack((xx[0].flatten(),xx[1].flatten(),xx[2].flatten()),axis=1); # shape = [num_pts,num_dim]\n",
    "  #ipdb.set_trace();\n",
    "  num_pts = x.shape[0];\n",
    "  atom_id = np.arange(I_id + 0,I_id + num_pts,dtype=int);\n",
    "  mol_id = 2; atom_mol = np.ones(x.shape[0],dtype=int)*mol_id;\n",
    "  atom_list.append(x); atom_mass_list.append(m0); \n",
    "  atom_id_list.append(atom_id); atom_mol_list.append(atom_mol);\n",
    "  I_type += 1; I_id += num_pts;\n",
    "  print_log(\"atom_name = \" + str(atom_name));\n",
    "  print_log(\"num_pts = \" + str(num_pts));\n",
    "\n",
    "# summary data    \n",
    "# get total number of atoms\n",
    "atom_types = np.array(atom_types,dtype=int);\n",
    "num_atoms = I_id - 1; # total number of atoms\n",
    "\n",
    "# setup bonds\n",
    "I_id = 1; I_type = 1; bond_types = []; bond_name_list = [];\n",
    "bond_list = []; bond_coeff_list = []; bond_id_list = [];\n",
    "\n",
    "flag_bond_1 = True;\n",
    "if flag_bond_1:\n",
    "  bond_types.append(I_type);\n",
    "  #bond_name_list.append(\"fene_1\");\n",
    "  bond_name_list.append(\"harmonic_1\");\n",
    "  \n",
    "  KBT = units['KBT']; ell = 5.0; K = 0.5*KBT/(ell*ell); r0 = 20;\n",
    "  b = \"harmonic %.7f %7f\"%(K,r0);\n",
    "  print_log(\"bond:\");\n",
    "  print_log(\"KBT = \" + str(KBT)); print_log(\"r0 = \" + str(r0));  \n",
    "  print_log(\"bond coeff = \" + str(b));\n",
    "  bond_coeff_list.append(b);\n",
    "\n",
    "  I0 = atz_util.atz_find_name(atom_name_list,\"polymer_pts\"); I_atom_type = atom_types[I0];\n",
    "  atom_id = atom_id_list[I_atom_type - 1]; nn = atom_id.shape[0];\n",
    "  bonds = np.zeros((nn,2),dtype=int); \n",
    "  bond_id = np.zeros(bonds.shape[0],dtype=int);\n",
    "  for i in range(0,nn):\n",
    "    i1 = atom_id[i % nn]; i2 = atom_id[(i + 1)%nn];  # base 1 indexing, closed loop\n",
    "    bonds[i,0] = i1; bonds[i,1] = i2;\n",
    "    bond_id[i] = I_id;\n",
    "    I_id += 1;  \n",
    "  bond_list.append(bonds); bond_id_list.append(bond_id);\n",
    "  I_type += 1;\n",
    "\n",
    "# summary data    \n",
    "num_bonds = I_id - 1;\n",
    "bond_types = np.array(bond_types,dtype=int);\n",
    "\n",
    "# setup angles\n",
    "I_id = 1; I_type =1 ; angle_types = []; angle_name_list = [];\n",
    "angle_list = []; angle_coeff_list = []; angle_id_list = [];\n",
    "\n",
    "flag_angles_1 = True;\n",
    "if flag_angles_1:\n",
    "  angle_name_list.append(\"atom_type_1\");\n",
    "  angle_types.append(I_type);\n",
    "  #KBT = 2478959.87; K = 10*KBT; theta_0 = 180.0; # degrees\n",
    "  KBT = units['KBT']; K = 5*KBT; theta_0 = 180.0; # degrees\n",
    "  b = \"harmonic %.7f %.7f\"%(K,theta_0);\n",
    "  angle_coeff_list.append(b);\n",
    "\n",
    "# build angle bonds for type 1 atoms with type 1 atoms, closed loop\n",
    "if flag_angles_1:\n",
    "  I0 = atz_util.atz_find_name(atom_name_list,\"polymer_pts\"); I_atom_type = atom_types[I0];\n",
    "  atom_id = atom_id_list[I_atom_type - 1]; nn = atom_id.shape[0];\n",
    "  angles = np.zeros((nn,3),dtype=int);\n",
    "  angle_id = np.zeros(angles.shape[0],dtype=int);\n",
    "  for i in range(0,nn):\n",
    "    i1 = atom_id[i]; i2 = atom_id[(i + 1)%nn]; i3 = atom_id[(i + 2)%nn]; # base 1 indexing\n",
    "    angles[i,0] = i1; angles[i,1] = i2; angles[i,2] = i3;\n",
    "    angle_id[i] = I_id; I_id += 1;\n",
    "  angle_list.append(angles); angle_id_list.append(angle_id);\n",
    "  I_type += 1;\n",
    "\n",
    "# summary data    \n",
    "num_angles = I_id - 1;\n",
    "angle_types = np.array(angle_types,dtype=int);\n",
    "\n",
    "# store the model information\n",
    "model_info = {};\n",
    "model_info.update({'num_dim':num_dim,'box':box,'atom_types':atom_types,\n",
    "          'atom_list':atom_list,'atom_mass_list':atom_mass_list,'atom_name_list':atom_name_list,\n",
    "          'atom_id_list':atom_id_list,'atom_mol_list':atom_mol_list,\n",
    "          'bond_types':bond_types,'bond_list':bond_list,'bond_id_list':bond_id_list,\n",
    "          'bond_coeff_list':bond_coeff_list,'bond_name_list':bond_name_list,\n",
    "          'angle_types':angle_types,'angle_list':angle_list,'angle_id_list':angle_id_list,\n",
    "          'angle_coeff_list':angle_coeff_list,'angle_name_list':angle_name_list});"
   ]
  },
  {
   "cell_type": "code",
   "execution_count": 9,
   "metadata": {},
   "outputs": [
    {
     "name": "stdout",
     "output_type": "stream",
     "text": [
      "Writing model data .pickle\n",
      "filename = model_setup.pickle\n",
      "Writing model data .read_data\n",
      "filename = Polymer.LAMMPS_read_data\n"
     ]
    }
   ],
   "source": [
    "# write .pickle data with the model setup information\n",
    "filename = \"model_setup.pickle\";\n",
    "print_log(\"Writing model data .pickle\");\n",
    "print_log(\"filename = \" + filename);\n",
    "s = model_info;\n",
    "f = open(filename,'wb'); pickle.dump(s,f); f.close();\n",
    "\n",
    "# write the model .read_data file for lammps\n",
    "filename = \"Polymer.LAMMPS_read_data\";\n",
    "print_log(\"Writing model data .read_data\");\n",
    "print_log(\"filename = \" + filename);\n",
    "atz_util.write_read_data(filename=filename,print_log=print_log,**model_info);"
   ]
  },
  {
   "cell_type": "code",
   "execution_count": 10,
   "metadata": {
    "scrolled": false
   },
   "outputs": [],
   "source": [
    "#!cat Polymer.LAMMPS_read_data"
   ]
  },
  {
   "cell_type": "markdown",
   "metadata": {},
   "source": [
    "### Perform the simulation"
   ]
  },
  {
   "cell_type": "code",
   "execution_count": 11,
   "metadata": {
    "scrolled": false
   },
   "outputs": [
    {
     "name": "stdout",
     "output_type": "stream",
     "text": [
      "Sending commands to LAMMPs\n",
      "\n",
      "# =========================================================================\n",
      "# LAMMPS main parameter file and script                                    \n",
      "#                                                                          \n",
      "# Author: Paul J. Atzberger.               \n",
      "#\n",
      "# Based on script generated by MANGO-SELM Model Builder.\n",
      "#                                                                          \n",
      "# =========================================================================\n",
      "\n",
      "# == Setup variables for the script \n",
      "variable dumpfreq         equal    1\n",
      "variable restart          equal    0\n",
      "variable neighborSkinDist equal    1.0 # distance for bins beyond force cut-off (1.0 = 1.0 Ang for units = real) \n",
      "variable baseFilename     universe Polymer\n",
      "\n",
      "# == Setup the log file\n",
      "#log         ${baseFilename}.LAMMPS_logFile\n",
      "\n",
      "# == Setup style of the run\n",
      "\n",
      "# type of units to use in the simulation (units used are in fact: amu, nm, ns, Kelvins)\n",
      "units       nano\n",
      "\n",
      "# indicates possible types allowed for interactions between the atoms\n",
      "atom_style  angle \n",
      "\n",
      "# indicates possible types allowed for bonds between the atoms \n",
      "bond_style hybrid harmonic \n",
      "\n",
      "# indicates possible types allowed for bond angles between the atoms \n",
      "angle_style hybrid harmonic\n",
      "\n",
      "# indicates type of boundary conditions in each direction (p = periodic) \n",
      "boundary p p p \n",
      "\n",
      "read_data ${baseFilename}.LAMMPS_read_data # file of atomic coordinates and topology\n",
      "velocity all zero linear                   # initialize all atomic velocities initially to zero\n",
      "\n",
      "# == Interactions \n",
      "pair_style none\n",
      "atom_modify sort 1000 ${neighborSkinDist}          # setup sort data explicitly since no interactions to set this data. \n",
      "\n",
      "# == Setup neighbor list distance\n",
      "comm_style tiled\n",
      "comm_modify mode single cutoff 202.0 vel yes\n",
      "\n",
      "neighbor ${neighborSkinDist} bin                    # first number gives a distance beyond the force cut-off ${neighborSkinDist}\n",
      "neigh_modify every 1\n",
      "\n",
      "atom_modify sort 0 ${neighborSkinDist}           # setup sort data explicitly since no interactions to set this data. \n",
      "\n",
      "# == Setup the SELM integrator\n",
      "fix 1 all selm Main.SELM_params\n",
      "\n",
      "# note langevin just computes forces, nve integrates the motions\n",
      "#fix 1 all langevin 298.15 298.15 0.00001 48279\n",
      "#fix 2 all nve\n",
      "\n",
      "# == Setup output data write to disk\n",
      "#dump        dmp_dcd all dcd ${dumpfreq} ${baseFilename}_LAMMPS_atomCoords.dcd\n",
      "#dump_modify dmp_dcd unwrap yes                   # indicates for periodic domains that unwrapped coordinate should be given\n",
      "\n",
      "dump        dmp_vtk all vtk ${dumpfreq} ./vtk/Particles_*.vtp id type vx fx\n",
      "dump_modify dmp_vtk pad 8 # ensures filenames file_000000.data\n",
      "\n",
      "# == simulation time-stepping\n",
      "timestep 60\n",
      "\n"
     ]
    }
   ],
   "source": [
    "# We can send collection of commands using the triple quote notation\n",
    "s = \"\"\"\n",
    "# =========================================================================\n",
    "# LAMMPS main parameter file and script                                    \n",
    "#                                                                          \n",
    "# Author: Paul J. Atzberger.               \n",
    "#\n",
    "# Based on script generated by MANGO-SELM Model Builder.\n",
    "#                                                                          \n",
    "# =========================================================================\n",
    "\n",
    "# == Setup variables for the script \n",
    "variable dumpfreq         equal    1\n",
    "variable restart          equal    0\n",
    "variable neighborSkinDist equal    1.0 # distance for bins beyond force cut-off (1.0 = 1.0 Ang for units = real) \n",
    "variable baseFilename     universe Polymer\n",
    "\n",
    "# == Setup the log file\n",
    "#log         ${baseFilename}.LAMMPS_logFile\n",
    "\n",
    "# == Setup style of the run\n",
    "\n",
    "# type of units to use in the simulation (units used are in fact: amu, nm, ns, Kelvins)\n",
    "units       nano\n",
    "\n",
    "# indicates possible types allowed for interactions between the atoms\n",
    "atom_style  angle \n",
    "\n",
    "# indicates possible types allowed for bonds between the atoms \n",
    "bond_style hybrid harmonic \n",
    "\n",
    "# indicates possible types allowed for bond angles between the atoms \n",
    "angle_style hybrid harmonic\n",
    "\n",
    "# indicates type of boundary conditions in each direction (p = periodic) \n",
    "boundary p p p \n",
    "\n",
    "read_data ${baseFilename}.LAMMPS_read_data # file of atomic coordinates and topology\n",
    "velocity all zero linear                   # initialize all atomic velocities initially to zero\n",
    "\n",
    "# == Interactions \n",
    "pair_style none\n",
    "atom_modify sort 1000 ${neighborSkinDist}          # setup sort data explicitly since no interactions to set this data. \n",
    "\n",
    "# == Setup neighbor list distance\n",
    "comm_style tiled\n",
    "comm_modify mode single cutoff 202.0 vel yes\n",
    "\n",
    "neighbor ${neighborSkinDist} bin                    # first number gives a distance beyond the force cut-off ${neighborSkinDist}\n",
    "neigh_modify every 1\n",
    "\n",
    "atom_modify sort 0 ${neighborSkinDist}           # setup sort data explicitly since no interactions to set this data. \n",
    "\n",
    "# == Setup the SELM integrator\n",
    "fix 1 all selm Main.SELM_params\n",
    "\n",
    "# note langevin just computes forces, nve integrates the motions\n",
    "#fix 1 all langevin 298.15 298.15 0.00001 48279\n",
    "#fix 2 all nve\n",
    "\n",
    "# == Setup output data write to disk\n",
    "#dump        dmp_dcd all dcd ${dumpfreq} ${baseFilename}_LAMMPS_atomCoords.dcd\n",
    "#dump_modify dmp_dcd unwrap yes                   # indicates for periodic domains that unwrapped coordinate should be given\n",
    "\n",
    "dump        dmp_vtk all vtk ${dumpfreq} ./vtk/Particles_*.vtp id type vx fx\n",
    "dump_modify dmp_vtk pad 8 # ensures filenames file_000000.data\n",
    "\n",
    "# == simulation time-stepping\n",
    "timestep 60\n",
    "\n",
    "\"\"\"\n",
    "\n",
    "# feed commands to LAMMPs one line at a time\n",
    "print_log(\"Sending commands to LAMMPs\");\n",
    "for line in s.splitlines():\n",
    "  print_log(line);\n",
    "  L.command(line);"
   ]
  },
  {
   "cell_type": "code",
   "execution_count": 12,
   "metadata": {},
   "outputs": [],
   "source": [
    "#!cat Model.SELM_Info"
   ]
  },
  {
   "cell_type": "code",
   "execution_count": 13,
   "metadata": {},
   "outputs": [
    {
     "name": "stdout",
     "output_type": "stream",
     "text": [
      "save_filename = /USER-SELM/examples/Polymer4/output/simulation_polymer4_2/harmonic_test001/fig/configuration_initial1.pdf\n",
      "save_filename = /USER-SELM/examples/Polymer4/output/simulation_polymer4_2/harmonic_test001/fig/configuration_initial1.png\n"
     ]
    },
    {
     "data": {
      "image/png": "[encoded data removed]",
      "text/plain": [
       "<Figure size 576x432 with 1 Axes>"
      ]
     },
     "metadata": {},
     "output_type": "display_data"
    }
   ],
   "source": [
    "flag_run_cell = True;\n",
    "if flag_run_cell:\n",
    "  atoms = L.atoms;\n",
    "  num_atoms = len(atoms);\n",
    "  xx = []; tt = [];\n",
    "  for i in range(0,num_atoms):\n",
    "    #ii = L.atoms[i].index;\n",
    "    xx.append(atoms[i].position);\n",
    "    tt.append(atoms[i].type); \n",
    "\n",
    "  atom_x = np.array(xx); # convert to numpy array\n",
    "  atom_type = np.array(tt);\n",
    "    \n",
    "  plt.figure(1,facecolor='white',figsize= (8,6));\n",
    "\n",
    "  II = np.nonzero(atom_type == 2)[0]\n",
    "  plt.plot(atom_x[II,0],atom_x[II,2],'b.',ms=20,alpha=0.08);\n",
    "\n",
    "  II = np.nonzero(atom_type == 1)[0];\n",
    "  for ii in range(0,int(len(II)/2)):\n",
    "    III = [II[2*ii],II[2*ii+1]];\n",
    "    X1 = atom_x[II[0],:]; X2 = atom_x[II[1],:];\n",
    "    dist = np.sqrt(np.sum(np.power(X1 - X2,2))); ell = 1.99*LL;\n",
    "    if dist <= ell:\n",
    "      plt.plot(atom_x[III,0],atom_x[III,2],'c-',lw=6,alpha=0.8);\n",
    "    plt.plot(atom_x[III[0],0],atom_x[III[0],2],'m.',ms=30,alpha=0.8);\n",
    "    plt.plot(atom_x[III[1],0],atom_x[III[1],2],'m.',ms=30,alpha=0.8);\n",
    "    \n",
    "  #plt.plot(atom_x[II,0],atom_x[II,2],'m.',ms=50,alpha=0.8);\n",
    "\n",
    "  plt.xlabel('x');\n",
    "  plt.ylabel('z');\n",
    "  plt.xlim([-1.1*LL,1.1*LL]);\n",
    "  plt.ylim([-1.1*LL,1.1*LL]);\n",
    "  #plt.title('Configuration t=%.3g'%);\n",
    "  plt.title('Configuration');\n",
    "\n",
    "  plt.draw();\n",
    "  base_filename = '%s/configuration_initial1'%(base_dir_fig);\n",
    "  atz_util.save_fig(base_filename,flag_pdf=True);\n"
   ]
  },
  {
   "cell_type": "code",
   "execution_count": null,
   "metadata": {},
   "outputs": [
    {
     "name": "stdout",
     "output_type": "stream",
     "text": [
      "Sending commands to LAMMPs\n",
      "\n",
      "# == Run the simulation\n",
      "run      1000 upto\n"
     ]
    }
   ],
   "source": [
    "# We can send collection of commands using the triple quote notation\n",
    "s = \"\"\"\n",
    "# == Run the simulation\n",
    "run      1000 upto\n",
    "\n",
    "# == Write restart data\n",
    "write_restart ${baseFilename}.LAMMPS_restart_data\n",
    "\"\"\"\n",
    "\n",
    "# feed commands to LAMMPs one line at a time\n",
    "print_log(\"Sending commands to LAMMPs\");\n",
    "for line in s.splitlines():\n",
    "  print_log(line);\n",
    "  L.command(line);"
   ]
  },
  {
   "cell_type": "code",
   "execution_count": null,
   "metadata": {},
   "outputs": [],
   "source": []
  },
  {
   "cell_type": "markdown",
   "metadata": {},
   "source": [
    "### Get the last configuration"
   ]
  },
  {
   "cell_type": "code",
   "execution_count": null,
   "metadata": {},
   "outputs": [],
   "source": [
    "print_log(\"L.fixes = \" + str(L.fixes));\n",
    "\n",
    "print_log(\"\");\n",
    "print_log(\"Run additional steps (method 1):\")\n",
    "print_log(\"L.run(num_steps)\");\n",
    "num_steps = 10;\n",
    "#L.run(num_steps);\n",
    "\n",
    "print_log(\"\");\n",
    "print_log(\"Run additional steps (method 2):\")\n",
    "num_steps = 10;\n",
    "s = \"run %d\"%num_steps;\n",
    "print_log(\"L.command(\\\"%s\\\");\"%s);\n",
    "#L.command(s);\n",
    "\n",
    "print_log(\"\");\n",
    "print_log(\"Atom positions:\")\n",
    "# Get the atom current location\n",
    "atoms = L.atoms;\n",
    "num_atoms = len(atoms);\n",
    "xx = []; tt = [];\n",
    "for i in range(0,num_atoms):\n",
    "  #ii = L.atoms[i].index;\n",
    "  xx.append(atoms[i].position);\n",
    "  tt.append(atoms[i].type); \n",
    "\n",
    "atom_x = np.array(xx); # convert to numpy array\n",
    "atom_type = np.array(tt);\n",
    "\n",
    "print_log(\"atom_x = \" + str(atom_x));\n",
    "print_log(\"atom_type = \" + str(atom_type));"
   ]
  },
  {
   "cell_type": "markdown",
   "metadata": {},
   "source": [
    "### Plot the last configuration"
   ]
  },
  {
   "cell_type": "code",
   "execution_count": null,
   "metadata": {},
   "outputs": [],
   "source": [
    "flag_run_cell = True;\n",
    "if flag_run_cell:\n",
    "  plt.figure(1,facecolor='white',figsize= (8,6));\n",
    "\n",
    "  II = np.nonzero(atom_type == 2)[0]\n",
    "  plt.plot(atom_x[II,0],atom_x[II,2],'b.',ms=50,alpha=0.08);\n",
    "\n",
    "  II = np.nonzero(atom_type == 1)[0];\n",
    "  for ii in range(0,int(len(II)/2)):\n",
    "    III = [II[2*ii],II[2*ii+1]];\n",
    "    X1 = atom_x[II[0],:]; X2 = atom_x[II[1],:];\n",
    "    dist = np.sqrt(np.sum(np.power(X1 - X2,2))); ell = 1.99*LL;\n",
    "    if dist <= ell:\n",
    "      plt.plot(atom_x[III,0],atom_x[III,2],'c-',lw=7,alpha=0.8);\n",
    "    plt.plot(atom_x[III[0],0],atom_x[III[0],2],'m.',ms=50,alpha=0.8);\n",
    "    plt.plot(atom_x[III[1],0],atom_x[III[1],2],'m.',ms=50,alpha=0.8);\n",
    "    \n",
    "  #plt.plot(atom_x[II,0],atom_x[II,2],'m.',ms=50,alpha=0.8);\n",
    "\n",
    "  plt.xlabel('x');\n",
    "  plt.ylabel('z');\n",
    "  #plt.title('Configuration t=%.3g'%);\n",
    "  plt.title('Configuration');\n",
    "\n",
    "  plt.draw();\n",
    "  base_filename = '%s/configuration_view1'%(base_dir_fig);\n",
    "  atz_util.save_fig(base_filename,flag_pdf=True);\n",
    "\n"
   ]
  },
  {
   "cell_type": "code",
   "execution_count": null,
   "metadata": {},
   "outputs": [],
   "source": [
    "print_log(\"Done\");"
   ]
  },
  {
   "cell_type": "markdown",
   "metadata": {},
   "source": [
    "### Misc codes"
   ]
  },
  {
   "cell_type": "code",
   "execution_count": null,
   "metadata": {},
   "outputs": [],
   "source": [
    "flag_run_cell = False;\n",
    "if flag_run_cell:\n",
    "  # For VMD visualization file, \n",
    "  # copy these commands into the .vmd file near the end\n",
    "  s = \"\";\n",
    "  for i in range(0,x.shape[0]-1):\n",
    "    s += \"topo addbond %d %d \\n\"%(i,i+1);\n",
    "\n",
    "  print(s);\n"
   ]
  },
  {
   "cell_type": "code",
   "execution_count": null,
   "metadata": {},
   "outputs": [],
   "source": []
  }
 ],
 "metadata": {
  "kernelspec": {
   "display_name": "Python [conda env:selm-lammps]",
   "language": "python",
   "name": "conda-env-selm-lammps-py"
  },
  "language_info": {
   "codemirror_mode": {
    "name": "ipython",
    "version": 3
   },
   "file_extension": ".py",
   "mimetype": "text/x-python",
   "name": "python",
   "nbconvert_exporter": "python",
   "pygments_lexer": "ipython3",
   "version": "3.7.10"
  }
 },
 "nbformat": 4,
 "nbformat_minor": 1
}
